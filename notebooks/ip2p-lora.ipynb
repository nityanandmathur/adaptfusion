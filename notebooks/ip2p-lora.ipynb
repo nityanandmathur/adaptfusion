{
 "cells": [
  {
   "cell_type": "markdown",
   "metadata": {},
   "source": [
    "Loading T2I LoRA to IP2P's U-Net in different scales"
   ]
  },
  {
   "cell_type": "code",
   "execution_count": null,
   "metadata": {},
   "outputs": [],
   "source": [
    "from diffusers import StableDiffusionXLInstructPix2PixPipeline\n",
    "import torch"
   ]
  },
  {
   "cell_type": "code",
   "execution_count": null,
   "metadata": {},
   "outputs": [],
   "source": [
    "pipe_id = \"diffusers/sdxl-instructpix2pix-768\"\n",
    "pipe = StableDiffusionXLInstructPix2PixPipeline.from_pretrained(pipe_id, torch_dtype=torch.float16).to('cuda:3')"
   ]
  },
  {
   "cell_type": "code",
   "execution_count": null,
   "metadata": {},
   "outputs": [],
   "source": [
    "pipe.load_lora_weights(\"nityanandmathur/__\", weight_name=\"pytorch_lora_weights.safetensors\", adapter_name=\"nuim\")"
   ]
  },
  {
   "cell_type": "markdown",
   "metadata": {},
   "source": [
    "| Down | Mid | Up |\n",
    "|----------|----------|----------|\n",
    "|✅|❌|❌|"
   ]
  },
  {
   "cell_type": "code",
   "execution_count": null,
   "metadata": {},
   "outputs": [],
   "source": [
    "prompt = \"a car in sks scene\"\n",
    "adapter_weight_scales = { \"unet\": { \"down\": 1, \"mid\": 0, \"up\": 0}}\n",
    "pipe.set_adapters(\"nuim\", adapter_weight_scales)\n",
    "image = pipe(prompt, num_inference_steps=30, generator=torch.manual_seed(0)).images[0]\n",
    "image"
   ]
  },
  {
   "cell_type": "markdown",
   "metadata": {},
   "source": [
    "| Down | Mid | Up |\n",
    "|----------|----------|----------|\n",
    "|❌|✅|❌|"
   ]
  },
  {
   "cell_type": "code",
   "execution_count": null,
   "metadata": {},
   "outputs": [],
   "source": [
    "prompt = \"a car in sks scene\"\n",
    "adapter_weight_scales = { \"unet\": { \"down\": 0, \"mid\": 1, \"up\": 0}}\n",
    "pipe.set_adapters(\"nuim\", adapter_weight_scales)\n",
    "image = pipe(prompt, num_inference_steps=30, generator=torch.manual_seed(0)).images[0]\n",
    "image"
   ]
  },
  {
   "cell_type": "markdown",
   "metadata": {},
   "source": [
    "| Down | Mid | Up |\n",
    "|----------|----------|----------|\n",
    "|❌|❌|✅|"
   ]
  },
  {
   "cell_type": "code",
   "execution_count": null,
   "metadata": {},
   "outputs": [],
   "source": [
    "prompt = \"a car in sks scene\"\n",
    "adapter_weight_scales = { \"unet\": { \"down\": 0, \"mid\": 0, \"up\": 1}}\n",
    "pipe.set_adapters(\"nuim\", adapter_weight_scales)\n",
    "image = pipe(prompt, num_inference_steps=30, generator=torch.manual_seed(0)).images[0]\n",
    "image"
   ]
  },
  {
   "cell_type": "markdown",
   "metadata": {},
   "source": [
    "| Down | Mid | Up |\n",
    "|----------|----------|----------|\n",
    "|✅|✅|❌|"
   ]
  },
  {
   "cell_type": "code",
   "execution_count": null,
   "metadata": {},
   "outputs": [],
   "source": [
    "prompt = \"a car in sks scene\"\n",
    "adapter_weight_scales = { \"unet\": { \"down\": 1, \"mid\": 1, \"up\": 0}}\n",
    "pipe.set_adapters(\"nuim\", adapter_weight_scales)\n",
    "image = pipe(prompt, num_inference_steps=30, generator=torch.manual_seed(0)).images[0]\n",
    "image"
   ]
  },
  {
   "cell_type": "markdown",
   "metadata": {},
   "source": [
    "| Down | Mid | Up |\n",
    "|----------|----------|----------|\n",
    "|✅|❌|✅|"
   ]
  },
  {
   "cell_type": "code",
   "execution_count": null,
   "metadata": {},
   "outputs": [],
   "source": [
    "prompt = \"a car in sks scene\"\n",
    "adapter_weight_scales = { \"unet\": { \"down\": 1, \"mid\": 0, \"up\": 1}}\n",
    "pipe.set_adapters(\"nuim\", adapter_weight_scales)\n",
    "image = pipe(prompt, num_inference_steps=30, generator=torch.manual_seed(0)).images[0]\n",
    "image"
   ]
  },
  {
   "cell_type": "markdown",
   "metadata": {},
   "source": [
    "| Down | Mid | Up |\n",
    "|----------|----------|----------|\n",
    "|❌|✅|✅|"
   ]
  },
  {
   "cell_type": "code",
   "execution_count": null,
   "metadata": {},
   "outputs": [],
   "source": [
    "prompt = \"a car in sks scene\"\n",
    "adapter_weight_scales = { \"unet\": { \"down\": 0, \"mid\": 1, \"up\": 1}}\n",
    "pipe.set_adapters(\"nuim\", adapter_weight_scales)\n",
    "image = pipe(prompt, num_inference_steps=30, generator=torch.manual_seed(0)).images[0]\n",
    "image"
   ]
  },
  {
   "cell_type": "markdown",
   "metadata": {},
   "source": [
    "| Down | Mid | Up |\n",
    "|----------|----------|----------|\n",
    "|✅|✅|✅|"
   ]
  },
  {
   "cell_type": "code",
   "execution_count": null,
   "metadata": {},
   "outputs": [],
   "source": [
    "prompt = \"a car in sks scene\"\n",
    "adapter_weight_scales = { \"unet\": { \"down\": 1, \"mid\": 1, \"up\": 1}}\n",
    "pipe.set_adapters(\"nuim\", adapter_weight_scales)\n",
    "image = pipe(prompt, num_inference_steps=30, generator=torch.manual_seed(0)).images[0]\n",
    "image"
   ]
  },
  {
   "cell_type": "markdown",
   "metadata": {},
   "source": [
    "| Down | Mid | Up |\n",
    "|----------|----------|----------|\n",
    "|❌|❌|❌|"
   ]
  },
  {
   "cell_type": "code",
   "execution_count": null,
   "metadata": {},
   "outputs": [],
   "source": [
    "prompt = \"a car in sks scene\"\n",
    "adapter_weight_scales = { \"unet\": { \"down\": 0, \"mid\": 0, \"up\": 0}}\n",
    "pipe.set_adapters(\"nuim\", adapter_weight_scales)\n",
    "image = pipe(prompt, num_inference_steps=30, generator=torch.manual_seed(0)).images[0]\n",
    "image"
   ]
  }
 ],
 "metadata": {
  "kernelspec": {
   "display_name": "nits",
   "language": "python",
   "name": "python3"
  },
  "language_info": {
   "codemirror_mode": {
    "name": "ipython",
    "version": 3
   },
   "file_extension": ".py",
   "mimetype": "text/x-python",
   "name": "python",
   "nbconvert_exporter": "python",
   "pygments_lexer": "ipython3",
   "version": "3.11.9"
  }
 },
 "nbformat": 4,
 "nbformat_minor": 2
}
