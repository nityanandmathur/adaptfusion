{
 "cells": [
  {
   "cell_type": "markdown",
   "metadata": {},
   "source": [
    "Testing loading LoRA weights to different components in U-Net of SDXL"
   ]
  },
  {
   "cell_type": "code",
   "execution_count": null,
   "metadata": {},
   "outputs": [],
   "source": [
    "from diffusers import StableDiffusionXLPipeline\n",
    "import torch"
   ]
  },
  {
   "cell_type": "code",
   "execution_count": null,
   "metadata": {},
   "outputs": [],
   "source": [
    "pipe_id = \"stabilityai/stable-diffusion-xl-base-1.0\"\n",
    "pipe = StableDiffusionXLPipeline.from_pretrained(pipe_id, torch_dtype=torch.float16).to('cuda:3')"
   ]
  },
  {
   "cell_type": "code",
   "execution_count": null,
   "metadata": {},
   "outputs": [],
   "source": [
    "# NuImages Night Checkpoint - https://huggingface.co/nityanandmathur/nuimages-night-train-sdxl\n",
    "# NuImages Sample Checkpoint - https://huggingface.co/nityanandmathur/nuimages-samples-sdxl-lora-r4-i1000\n",
    "pipe.load_lora_weights(\"nityanandmathur/nuimages-samples-sdxl-lora-r4-i1000\", weight_name=\"pytorch_lora_weights.safetensors\", adapter_name=\"sks\")"
   ]
  },
  {
   "cell_type": "markdown",
   "metadata": {},
   "source": [
    "| Down | Mid | Up |\n",
    "|----------|----------|----------|\n",
    "|✅|❌|❌|"
   ]
  },
  {
   "cell_type": "code",
   "execution_count": null,
   "metadata": {},
   "outputs": [],
   "source": [
    "prompt = \"a car in sks scene\"\n",
    "adapter_weight_scales = { \"unet\": { \"down\": 1, \"mid\": 0, \"up\": 0}}\n",
    "pipe.set_adapters(\"sks\", adapter_weight_scales)\n",
    "image = pipe(prompt, num_inference_steps=30, generator=torch.manual_seed(0)).images[0]\n",
    "image"
   ]
  },
  {
   "cell_type": "markdown",
   "metadata": {},
   "source": [
    "| Down | Mid | Up |\n",
    "|----------|----------|----------|\n",
    "|❌|✅|❌|"
   ]
  },
  {
   "cell_type": "code",
   "execution_count": null,
   "metadata": {},
   "outputs": [],
   "source": [
    "prompt = \"a car in sks scene\"\n",
    "adapter_weight_scales = { \"unet\": { \"down\": 0, \"mid\": 1, \"up\": 0}}\n",
    "pipe.set_adapters(\"sks\", adapter_weight_scales)\n",
    "image = pipe(prompt, num_inference_steps=30, generator=torch.manual_seed(0)).images[0]\n",
    "image"
   ]
  },
  {
   "cell_type": "markdown",
   "metadata": {},
   "source": [
    "| Down | Mid | Up |\n",
    "|----------|----------|----------|\n",
    "|❌|❌|✅|"
   ]
  },
  {
   "cell_type": "code",
   "execution_count": null,
   "metadata": {},
   "outputs": [],
   "source": [
    "prompt = \"a car in sks scene\"\n",
    "adapter_weight_scales = { \"unet\": { \"down\": 0, \"mid\": 0, \"up\": 1}}\n",
    "pipe.set_adapters(\"sks\", adapter_weight_scales)\n",
    "image = pipe(prompt, num_inference_steps=30, generator=torch.manual_seed(0)).images[0]\n",
    "image"
   ]
  },
  {
   "cell_type": "markdown",
   "metadata": {},
   "source": [
    "| Down | Mid | Up |\n",
    "|----------|----------|----------|\n",
    "|✅|✅|❌|"
   ]
  },
  {
   "cell_type": "code",
   "execution_count": null,
   "metadata": {},
   "outputs": [],
   "source": [
    "prompt = \"a car in sks scene\"\n",
    "adapter_weight_scales = { \"unet\": { \"down\": 1, \"mid\": 1, \"up\": 0}}\n",
    "pipe.set_adapters(\"sks\", adapter_weight_scales)\n",
    "image = pipe(prompt, num_inference_steps=30, generator=torch.manual_seed(0)).images[0]\n",
    "image"
   ]
  },
  {
   "cell_type": "markdown",
   "metadata": {},
   "source": [
    "| Down | Mid | Up |\n",
    "|----------|----------|----------|\n",
    "|✅|❌|✅|"
   ]
  },
  {
   "cell_type": "code",
   "execution_count": null,
   "metadata": {},
   "outputs": [],
   "source": [
    "prompt = \"a car in sks scene\"\n",
    "adapter_weight_scales = { \"unet\": { \"down\": 1, \"mid\": 0, \"up\": 1}}\n",
    "pipe.set_adapters(\"sks\", adapter_weight_scales)\n",
    "image = pipe(prompt, num_inference_steps=30, generator=torch.manual_seed(0)).images[0]\n",
    "image"
   ]
  },
  {
   "cell_type": "markdown",
   "metadata": {},
   "source": [
    "| Down | Mid | Up |\n",
    "|----------|----------|----------|\n",
    "|❌|✅|✅|"
   ]
  },
  {
   "cell_type": "code",
   "execution_count": null,
   "metadata": {},
   "outputs": [],
   "source": [
    "prompt = \"a car in sks scene\"\n",
    "adapter_weight_scales = { \"unet\": { \"down\": 0, \"mid\": 1, \"up\": 1}}\n",
    "pipe.set_adapters(\"sks\", adapter_weight_scales)\n",
    "image = pipe(prompt, num_inference_steps=30, generator=torch.manual_seed(0)).images[0]\n",
    "image"
   ]
  },
  {
   "cell_type": "markdown",
   "metadata": {},
   "source": [
    "| Down | Mid | Up |\n",
    "|----------|----------|----------|\n",
    "|✅|✅|✅|"
   ]
  },
  {
   "cell_type": "code",
   "execution_count": null,
   "metadata": {},
   "outputs": [],
   "source": [
    "prompt = \"a car in sks scene\"\n",
    "adapter_weight_scales = { \"unet\": { \"down\": 1, \"mid\": 1, \"up\": 1}}\n",
    "pipe.set_adapters(\"sks\", adapter_weight_scales)\n",
    "image = pipe(prompt, num_inference_steps=30, generator=torch.manual_seed(0)).images[0]\n",
    "image"
   ]
  },
  {
   "cell_type": "markdown",
   "metadata": {},
   "source": [
    "| Down | Mid | Up |\n",
    "|----------|----------|----------|\n",
    "|❌|❌|❌|"
   ]
  },
  {
   "cell_type": "code",
   "execution_count": null,
   "metadata": {},
   "outputs": [],
   "source": [
    "prompt = \"a car in sks scene\"\n",
    "adapter_weight_scales = { \"unet\": { \"down\": 0, \"mid\": 0, \"up\": 0}}\n",
    "pipe.set_adapters(\"sks\", adapter_weight_scales)\n",
    "image = pipe(prompt, num_inference_steps=30, generator=torch.manual_seed(0)).images[0]\n",
    "image"
   ]
  }
 ],
 "metadata": {
  "kernelspec": {
   "display_name": "nits",
   "language": "python",
   "name": "python3"
  },
  "language_info": {
   "codemirror_mode": {
    "name": "ipython",
    "version": 3
   },
   "file_extension": ".py",
   "mimetype": "text/x-python",
   "name": "python",
   "nbconvert_exporter": "python",
   "pygments_lexer": "ipython3",
   "version": "3.11.9"
  }
 },
 "nbformat": 4,
 "nbformat_minor": 2
}
